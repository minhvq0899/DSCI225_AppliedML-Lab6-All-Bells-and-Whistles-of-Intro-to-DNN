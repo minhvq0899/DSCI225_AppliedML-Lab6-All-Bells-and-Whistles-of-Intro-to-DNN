{
 "cells": [
  {
   "cell_type": "markdown",
   "metadata": {},
   "source": [
    "# Goal \n",
    "Train a deep MLP on the MNIST dataset (you can load it using\n",
    "keras.datasets.mnist.load_data(). See if you can get over\n",
    "98% precision. Try searching for the optimal learning rate by\n",
    "using the approach presented in this chapter (i.e., by growing the\n",
    "learning rate exponentially, plotting the error, and finding the\n",
    "point where the error shoots up). Try adding all the bells and\n",
    "whistles—save checkpoints, use early stopping, and plot learning\n",
    "curves using TensorBoard."
   ]
  },
  {
   "cell_type": "markdown",
   "metadata": {},
   "source": [
    "# Set Up"
   ]
  },
  {
   "cell_type": "code",
   "execution_count": 1,
   "metadata": {},
   "outputs": [],
   "source": [
    "# Python ≥3.5 is required\n",
    "import sys\n",
    "assert sys.version_info >= (3, 5)\n",
    "\n",
    "# Scikit-Learn ≥0.20 is required\n",
    "import sklearn\n",
    "assert sklearn.__version__ >= \"0.20\"\n",
    "\n",
    "try:\n",
    "    # %tensorflow_version only exists in Colab.\n",
    "    %tensorflow_version 2.x\n",
    "except Exception:\n",
    "    pass\n",
    "\n",
    "# TensorFlow ≥2.0 is required\n",
    "import tensorflow as tf\n",
    "assert tf.__version__ >= \"2.0\"\n",
    "\n",
    "# Common imports\n",
    "import numpy as np\n",
    "import os\n",
    "\n",
    "# to make this notebook's output stable across runs\n",
    "np.random.seed(42)\n",
    "\n",
    "# To plot pretty figures\n",
    "%matplotlib inline\n",
    "import matplotlib as mpl\n",
    "import matplotlib.pyplot as plt\n",
    "mpl.rc('axes', labelsize=14)\n",
    "mpl.rc('xtick', labelsize=12)\n",
    "mpl.rc('ytick', labelsize=12)\n",
    "\n",
    "# Where to save the figures\n",
    "PROJECT_ROOT_DIR = \".\"\n",
    "CHAPTER_ID = \"ann\"\n",
    "IMAGES_PATH = os.path.join(PROJECT_ROOT_DIR, \"images\", CHAPTER_ID)\n",
    "os.makedirs(IMAGES_PATH, exist_ok=True)\n",
    "\n",
    "def save_fig(fig_id, tight_layout=True, fig_extension=\"png\", resolution=300):\n",
    "    path = os.path.join(IMAGES_PATH, fig_id + \".\" + fig_extension)\n",
    "    print(\"Saving figure\", fig_id)\n",
    "    if tight_layout:\n",
    "        plt.tight_layout()\n",
    "    plt.savefig(path, format=fig_extension, dpi=resolution)\n",
    "\n",
    "# Ignore useless warnings (see SciPy issue #5998)\n",
    "import warnings\n",
    "warnings.filterwarnings(action=\"ignore\", message=\"^internal gelsd\")"
   ]
  },
  {
   "cell_type": "markdown",
   "metadata": {},
   "source": [
    "# Build an image classifier"
   ]
  },
  {
   "cell_type": "code",
   "execution_count": 2,
   "metadata": {},
   "outputs": [
    {
     "data": {
      "text/plain": [
       "'2.2.0'"
      ]
     },
     "execution_count": 2,
     "metadata": {},
     "output_type": "execute_result"
    }
   ],
   "source": [
    "tf.__version__"
   ]
  },
  {
   "cell_type": "code",
   "execution_count": 3,
   "metadata": {},
   "outputs": [
    {
     "data": {
      "text/plain": [
       "'2.3.0-tf'"
      ]
     },
     "execution_count": 3,
     "metadata": {},
     "output_type": "execute_result"
    }
   ],
   "source": [
    "from tensorflow import keras\n",
    "keras.__version__"
   ]
  },
  {
   "cell_type": "markdown",
   "metadata": {},
   "source": [
    "The dataset is already split for you between a training set and a test set, but it can be useful to split the training set further to have a validation set"
   ]
  },
  {
   "cell_type": "code",
   "execution_count": 5,
   "metadata": {},
   "outputs": [
    {
     "name": "stdout",
     "output_type": "stream",
     "text": [
      "Downloading data from https://storage.googleapis.com/tensorflow/tf-keras-datasets/mnist.npz\n",
      "11493376/11490434 [==============================] - 41s 4us/step\n"
     ]
    }
   ],
   "source": [
    "digit_mnist = keras.datasets.mnist\n",
    "(X_train_full, y_train_full), (X_test, y_test) = digit_mnist.load_data()"
   ]
  },
  {
   "cell_type": "code",
   "execution_count": 6,
   "metadata": {},
   "outputs": [
    {
     "name": "stdout",
     "output_type": "stream",
     "text": [
      "(60000, 28, 28)\n",
      "(60000,)\n",
      "(10000, 28, 28)\n",
      "(10000,)\n"
     ]
    }
   ],
   "source": [
    "print(X_train_full.shape)\n",
    "print(y_train_full.shape)\n",
    "print(X_test.shape)\n",
    "print(y_test.shape)"
   ]
  },
  {
   "cell_type": "markdown",
   "metadata": {},
   "source": [
    "Let's split the full training set into a validation set and a (smaller) training set. We also scale the pixel intensities down to the 0-1 range and convert them to floats, by dividing by 255."
   ]
  },
  {
   "cell_type": "code",
   "execution_count": 7,
   "metadata": {},
   "outputs": [],
   "source": [
    "X_valid, X_train = X_train_full[:5000] / 255., X_train_full[5000:] / 255.\n",
    "y_valid, y_train = y_train_full[:5000], y_train_full[5000:]\n",
    "X_test = X_test / 255."
   ]
  },
  {
   "cell_type": "markdown",
   "metadata": {},
   "source": [
    "You can plot an image using Matplotlib's imshow() function, with a 'binary' color map:"
   ]
  },
  {
   "cell_type": "code",
   "execution_count": 8,
   "metadata": {},
   "outputs": [
    {
     "data": {
      "image/png": "[encoded data removed]",
      "text/plain": [
       "<Figure size 432x288 with 1 Axes>"
      ]
     },
     "metadata": {
      "needs_background": "light"
     },
     "output_type": "display_data"
    }
   ],
   "source": [
    "plt.imshow(X_train[0], cmap=\"binary\")\n",
    "plt.axis('off')\n",
    "plt.show()"
   ]
  },
  {
   "cell_type": "code",
   "execution_count": 9,
   "metadata": {},
   "outputs": [
    {
     "data": {
      "text/plain": [
       "7"
      ]
     },
     "execution_count": 9,
     "metadata": {},
     "output_type": "execute_result"
    }
   ],
   "source": [
    "y_train[0]"
   ]
  },
  {
   "cell_type": "code",
   "execution_count": 10,
   "metadata": {},
   "outputs": [
    {
     "data": {
      "text/plain": [
       "array([7, 3, 4, ..., 5, 6, 8], dtype=uint8)"
      ]
     },
     "execution_count": 10,
     "metadata": {},
     "output_type": "execute_result"
    }
   ],
   "source": [
    "# The labels are the class IDs (represented as uint8), from 0 to 9:\n",
    "y_train"
   ]
  },
  {
   "cell_type": "code",
   "execution_count": 13,
   "metadata": {},
   "outputs": [
    {
     "name": "stdout",
     "output_type": "stream",
     "text": [
      "Saving figure digit_mnist_plot\n"
     ]
    },
    {
     "data": {
      "image/png": "[encoded data removed]",
      "text/plain": [
       "<Figure size 864x345.6 with 40 Axes>"
      ]
     },
     "metadata": {
      "needs_background": "light"
     },
     "output_type": "display_data"
    }
   ],
   "source": [
    "# Let's take a look at a sample of the images in the dataset:\n",
    "n_rows = 4\n",
    "n_cols = 10\n",
    "plt.figure(figsize=(n_cols * 1.2, n_rows * 1.2))\n",
    "for row in range(n_rows):\n",
    "    for col in range(n_cols):\n",
    "        index = n_cols * row + col\n",
    "        plt.subplot(n_rows, n_cols, index + 1)\n",
    "        plt.imshow(X_train[index], cmap=\"binary\", interpolation=\"nearest\")\n",
    "        plt.axis('off')\n",
    "plt.subplots_adjust(wspace=0.2, hspace=0.5)\n",
    "save_fig('digit_mnist_plot', tight_layout=False)\n",
    "plt.show()"
   ]
  },
  {
   "cell_type": "markdown",
   "metadata": {},
   "source": [
    "## Let's build a main model just like in chap 10 note book."
   ]
  },
  {
   "cell_type": "code",
   "execution_count": 61,
   "metadata": {},
   "outputs": [],
   "source": [
    "model = keras.models.Sequential()\n",
    "model.add(keras.layers.Flatten(input_shape=[28, 28]))\n",
    "model.add(keras.layers.Dense(300, activation=\"relu\"))\n",
    "model.add(keras.layers.Dense(100, activation=\"relu\"))\n",
    "model.add(keras.layers.Dense(10, activation=\"softmax\"))"
   ]
  },
  {
   "cell_type": "code",
   "execution_count": 62,
   "metadata": {},
   "outputs": [
    {
     "data": {
      "text/plain": [
       "[<tensorflow.python.keras.layers.core.Flatten at 0x2930043c7f0>,\n",
       " <tensorflow.python.keras.layers.core.Dense at 0x29353d7f6d8>,\n",
       " <tensorflow.python.keras.layers.core.Dense at 0x2930043c400>,\n",
       " <tensorflow.python.keras.layers.core.Dense at 0x2930043c438>]"
      ]
     },
     "execution_count": 62,
     "metadata": {},
     "output_type": "execute_result"
    }
   ],
   "source": [
    "model.layers"
   ]
  },
  {
   "cell_type": "code",
   "execution_count": 63,
   "metadata": {},
   "outputs": [
    {
     "name": "stdout",
     "output_type": "stream",
     "text": [
      "Model: \"sequential\"\n",
      "_________________________________________________________________\n",
      "Layer (type)                 Output Shape              Param #   \n",
      "=================================================================\n",
      "flatten (Flatten)            (None, 784)               0         \n",
      "_________________________________________________________________\n",
      "dense (Dense)                (None, 300)               235500    \n",
      "_________________________________________________________________\n",
      "dense_1 (Dense)              (None, 100)               30100     \n",
      "_________________________________________________________________\n",
      "dense_2 (Dense)              (None, 10)                1010      \n",
      "=================================================================\n",
      "Total params: 266,610\n",
      "Trainable params: 266,610\n",
      "Non-trainable params: 0\n",
      "_________________________________________________________________\n"
     ]
    }
   ],
   "source": [
    "model.summary()"
   ]
  },
  {
   "cell_type": "code",
   "execution_count": 64,
   "metadata": {},
   "outputs": [
    {
     "data": {
      "text/plain": [
       "'flatten'"
      ]
     },
     "execution_count": 64,
     "metadata": {},
     "output_type": "execute_result"
    }
   ],
   "source": [
    "hidden0 = model.layers[0]\n",
    "hidden0.name"
   ]
  },
  {
   "cell_type": "code",
   "execution_count": 65,
   "metadata": {},
   "outputs": [
    {
     "data": {
      "text/plain": [
       "array([[ 0.04602376, -0.0038019 ,  0.10557164, ...,  0.05382182,\n",
       "        -0.09810888,  0.10975555],\n",
       "       [-0.0131605 , -0.0401491 , -0.01301397, ..., -0.06764732,\n",
       "        -0.05142808, -0.10832162],\n",
       "       [ 0.0748878 ,  0.11689269,  0.06693598, ...,  0.04704887,\n",
       "        -0.04119989,  0.1031863 ],\n",
       "       ...,\n",
       "       [-0.08606555,  0.1186113 , -0.11932244, ...,  0.1080649 ,\n",
       "        -0.10135629,  0.05048553],\n",
       "       [-0.1144025 , -0.06622341,  0.00440084, ..., -0.00439373,\n",
       "         0.01447021,  0.02337808],\n",
       "       [-0.10965011,  0.05632766,  0.11904002, ..., -0.0713827 ,\n",
       "         0.11915682, -0.10558839]], dtype=float32)"
      ]
     },
     "execution_count": 65,
     "metadata": {},
     "output_type": "execute_result"
    }
   ],
   "source": [
    "hidden2 = model.layers[2]\n",
    "weights2, biases2 = hidden2.get_weights()\n",
    "weights2"
   ]
  },
  {
   "cell_type": "markdown",
   "metadata": {},
   "source": [
    "Right now the weights are initialized at random, with the mean of 0 and variance of 1. We will try different weights initialization later."
   ]
  },
  {
   "cell_type": "code",
   "execution_count": 66,
   "metadata": {},
   "outputs": [
    {
     "data": {
      "text/plain": [
       "(300, 100)"
      ]
     },
     "execution_count": 66,
     "metadata": {},
     "output_type": "execute_result"
    }
   ],
   "source": [
    "weights2.shape"
   ]
  },
  {
   "cell_type": "code",
   "execution_count": 67,
   "metadata": {},
   "outputs": [],
   "source": [
    "model.compile(loss=\"sparse_categorical_crossentropy\",\n",
    "              optimizer=\"sgd\",\n",
    "              metrics=[\"accuracy\"])"
   ]
  },
  {
   "cell_type": "code",
   "execution_count": 68,
   "metadata": {},
   "outputs": [
    {
     "name": "stdout",
     "output_type": "stream",
     "text": [
      "Epoch 1/30\n",
      "1719/1719 [==============================] - 3s 2ms/step - loss: 0.6196 - accuracy: 0.8405 - val_loss: 0.3103 - val_accuracy: 0.9120\n",
      "Epoch 2/30\n",
      "1719/1719 [==============================] - 4s 2ms/step - loss: 0.2954 - accuracy: 0.9151 - val_loss: 0.2473 - val_accuracy: 0.9304\n",
      "Epoch 3/30\n",
      "1719/1719 [==============================] - 4s 2ms/step - loss: 0.2430 - accuracy: 0.9302 - val_loss: 0.2060 - val_accuracy: 0.9428\n",
      "Epoch 4/30\n",
      "1719/1719 [==============================] - 3s 2ms/step - loss: 0.2076 - accuracy: 0.9405 - val_loss: 0.1824 - val_accuracy: 0.9494\n",
      "Epoch 5/30\n",
      "1719/1719 [==============================] - 4s 2ms/step - loss: 0.1811 - accuracy: 0.9486 - val_loss: 0.1644 - val_accuracy: 0.9540\n",
      "Epoch 6/30\n",
      "1719/1719 [==============================] - 3s 2ms/step - loss: 0.1603 - accuracy: 0.9542 - val_loss: 0.1482 - val_accuracy: 0.9602\n",
      "Epoch 7/30\n",
      "1719/1719 [==============================] - 3s 2ms/step - loss: 0.1431 - accuracy: 0.9598 - val_loss: 0.1366 - val_accuracy: 0.9628\n",
      "Epoch 8/30\n",
      "1719/1719 [==============================] - 3s 2ms/step - loss: 0.1291 - accuracy: 0.9633 - val_loss: 0.1295 - val_accuracy: 0.9638\n",
      "Epoch 9/30\n",
      "1719/1719 [==============================] - 3s 2ms/step - loss: 0.1174 - accuracy: 0.9673 - val_loss: 0.1183 - val_accuracy: 0.9672\n",
      "Epoch 10/30\n",
      "1719/1719 [==============================] - 3s 2ms/step - loss: 0.1077 - accuracy: 0.9696 - val_loss: 0.1091 - val_accuracy: 0.9692\n",
      "Epoch 11/30\n",
      "1719/1719 [==============================] - 3s 2ms/step - loss: 0.0988 - accuracy: 0.9722 - val_loss: 0.1049 - val_accuracy: 0.9696\n",
      "Epoch 12/30\n",
      "1719/1719 [==============================] - 3s 2ms/step - loss: 0.0911 - accuracy: 0.9744 - val_loss: 0.1005 - val_accuracy: 0.9706\n",
      "Epoch 13/30\n",
      "1719/1719 [==============================] - 3s 2ms/step - loss: 0.0843 - accuracy: 0.9762 - val_loss: 0.0949 - val_accuracy: 0.9728\n",
      "Epoch 14/30\n",
      "1719/1719 [==============================] - 3s 2ms/step - loss: 0.0781 - accuracy: 0.9781 - val_loss: 0.0920 - val_accuracy: 0.9734\n",
      "Epoch 15/30\n",
      "1719/1719 [==============================] - 3s 2ms/step - loss: 0.0726 - accuracy: 0.9795 - val_loss: 0.0878 - val_accuracy: 0.9728\n",
      "Epoch 16/30\n",
      "1719/1719 [==============================] - 3s 2ms/step - loss: 0.0677 - accuracy: 0.9805 - val_loss: 0.0862 - val_accuracy: 0.9738\n",
      "Epoch 17/30\n",
      "1719/1719 [==============================] - 3s 2ms/step - loss: 0.0632 - accuracy: 0.9823 - val_loss: 0.0835 - val_accuracy: 0.9748\n",
      "Epoch 18/30\n",
      "1719/1719 [==============================] - 3s 2ms/step - loss: 0.0592 - accuracy: 0.9835 - val_loss: 0.0800 - val_accuracy: 0.9762\n",
      "Epoch 19/30\n",
      "1719/1719 [==============================] - 3s 2ms/step - loss: 0.0555 - accuracy: 0.9850 - val_loss: 0.0783 - val_accuracy: 0.9774\n",
      "Epoch 20/30\n",
      "1719/1719 [==============================] - 4s 2ms/step - loss: 0.0520 - accuracy: 0.9861 - val_loss: 0.0775 - val_accuracy: 0.9764\n",
      "Epoch 21/30\n",
      "1719/1719 [==============================] - 4s 2ms/step - loss: 0.0488 - accuracy: 0.9870 - val_loss: 0.0736 - val_accuracy: 0.9784\n",
      "Epoch 22/30\n",
      "1719/1719 [==============================] - 4s 2ms/step - loss: 0.0459 - accuracy: 0.9877 - val_loss: 0.0743 - val_accuracy: 0.9776\n",
      "Epoch 23/30\n",
      "1719/1719 [==============================] - 4s 2ms/step - loss: 0.0432 - accuracy: 0.9884 - val_loss: 0.0756 - val_accuracy: 0.9768\n",
      "Epoch 24/30\n",
      "1719/1719 [==============================] - 4s 2ms/step - loss: 0.0404 - accuracy: 0.9893 - val_loss: 0.0727 - val_accuracy: 0.9772\n",
      "Epoch 25/30\n",
      "1719/1719 [==============================] - 4s 2ms/step - loss: 0.0384 - accuracy: 0.9900 - val_loss: 0.0708 - val_accuracy: 0.9792\n",
      "Epoch 26/30\n",
      "1719/1719 [==============================] - 4s 2ms/step - loss: 0.0360 - accuracy: 0.9911 - val_loss: 0.0680 - val_accuracy: 0.9798\n",
      "Epoch 27/30\n",
      "1719/1719 [==============================] - 4s 2ms/step - loss: 0.0340 - accuracy: 0.9916 - val_loss: 0.0673 - val_accuracy: 0.9804\n",
      "Epoch 28/30\n",
      "1719/1719 [==============================] - 3s 2ms/step - loss: 0.0322 - accuracy: 0.9921 - val_loss: 0.0692 - val_accuracy: 0.9802\n",
      "Epoch 29/30\n",
      "1719/1719 [==============================] - 3s 2ms/step - loss: 0.0301 - accuracy: 0.9931 - val_loss: 0.0676 - val_accuracy: 0.9790\n",
      "Epoch 30/30\n",
      "1719/1719 [==============================] - 3s 2ms/step - loss: 0.0286 - accuracy: 0.9935 - val_loss: 0.0672 - val_accuracy: 0.9798\n"
     ]
    }
   ],
   "source": [
    "history = model.fit(X_train, y_train, epochs=30, validation_data=(X_valid, y_valid))"
   ]
  },
  {
   "cell_type": "code",
   "execution_count": 69,
   "metadata": {},
   "outputs": [
    {
     "data": {
      "text/plain": [
       "{'verbose': 1, 'epochs': 30, 'steps': 1719}"
      ]
     },
     "execution_count": 69,
     "metadata": {},
     "output_type": "execute_result"
    }
   ],
   "source": [
    "history.params"
   ]
  },
  {
   "cell_type": "code",
   "execution_count": 70,
   "metadata": {},
   "outputs": [
    {
     "data": {
      "text/plain": [
       "dict_keys(['loss', 'accuracy', 'val_loss', 'val_accuracy'])"
      ]
     },
     "execution_count": 70,
     "metadata": {},
     "output_type": "execute_result"
    }
   ],
   "source": [
    "history.history.keys()"
   ]
  },
  {
   "cell_type": "code",
   "execution_count": 71,
   "metadata": {},
   "outputs": [
    {
     "name": "stdout",
     "output_type": "stream",
     "text": [
      "Saving figure keras_learning_curves_plot\n"
     ]
    },
    {
     "data": {
      "image/png": "[encoded data removed]",
      "text/plain": [
       "<Figure size 576x360 with 1 Axes>"
      ]
     },
     "metadata": {
      "needs_background": "light"
     },
     "output_type": "display_data"
    }
   ],
   "source": [
    "import pandas as pd\n",
    "\n",
    "pd.DataFrame(history.history).plot(figsize=(8, 5))\n",
    "plt.grid(True)\n",
    "plt.gca().set_ylim(0, 1)\n",
    "save_fig(\"keras_learning_curves_plot\")\n",
    "plt.show()"
   ]
  },
  {
   "cell_type": "code",
   "execution_count": 72,
   "metadata": {},
   "outputs": [
    {
     "name": "stdout",
     "output_type": "stream",
     "text": [
      "313/313 [==============================] - 0s 1ms/step - loss: 0.0693 - accuracy: 0.9798\n"
     ]
    },
    {
     "data": {
      "text/plain": [
       "[0.0692683681845665, 0.9797999858856201]"
      ]
     },
     "execution_count": 72,
     "metadata": {},
     "output_type": "execute_result"
    }
   ],
   "source": [
    "model.evaluate(X_test, y_test)"
   ]
  },
  {
   "cell_type": "code",
   "execution_count": 73,
   "metadata": {},
   "outputs": [
    {
     "data": {
      "text/plain": [
       "array([[0., 0., 0., 0., 0., 0., 0., 1., 0., 0.],\n",
       "       [0., 0., 1., 0., 0., 0., 0., 0., 0., 0.],\n",
       "       [0., 1., 0., 0., 0., 0., 0., 0., 0., 0.]], dtype=float32)"
      ]
     },
     "execution_count": 73,
     "metadata": {},
     "output_type": "execute_result"
    }
   ],
   "source": [
    "y_proba = model.predict(X_test[:3])\n",
    "y_proba.round(2)"
   ]
  },
  {
   "cell_type": "code",
   "execution_count": 45,
   "metadata": {},
   "outputs": [
    {
     "data": {
      "text/plain": [
       "array([7, 2, 1], dtype=uint8)"
      ]
     },
     "execution_count": 45,
     "metadata": {},
     "output_type": "execute_result"
    }
   ],
   "source": [
    "y_test[:3]"
   ]
  },
  {
   "cell_type": "markdown",
   "metadata": {},
   "source": [
    "# Bells and Whistles"
   ]
  },
  {
   "cell_type": "markdown",
   "metadata": {},
   "source": [
    "## Saving and Restoring"
   ]
  },
  {
   "cell_type": "code",
   "execution_count": 46,
   "metadata": {},
   "outputs": [
    {
     "name": "stdout",
     "output_type": "stream",
     "text": [
      "WARNING:tensorflow:From C:\\Users\\minhv\\Anaconda3\\lib\\site-packages\\tensorflow\\python\\ops\\resource_variable_ops.py:1817: calling BaseResourceVariable.__init__ (from tensorflow.python.ops.resource_variable_ops) with constraint is deprecated and will be removed in a future version.\n",
      "Instructions for updating:\n",
      "If using Keras pass *_constraint arguments to layers.\n",
      "INFO:tensorflow:Assets written to: main_model\\assets\n"
     ]
    }
   ],
   "source": [
    "model.save(\"main_model\")"
   ]
  },
  {
   "cell_type": "code",
   "execution_count": 48,
   "metadata": {},
   "outputs": [
    {
     "name": "stdout",
     "output_type": "stream",
     "text": [
      "Model: \"sequential_1\"\n",
      "_________________________________________________________________\n",
      "Layer (type)                 Output Shape              Param #   \n",
      "=================================================================\n",
      "flatten_1 (Flatten)          (None, 784)               0         \n",
      "_________________________________________________________________\n",
      "dense_3 (Dense)              (None, 300)               235500    \n",
      "_________________________________________________________________\n",
      "dense_4 (Dense)              (None, 100)               30100     \n",
      "_________________________________________________________________\n",
      "dense_5 (Dense)              (None, 10)                1010      \n",
      "=================================================================\n",
      "Total params: 266,610\n",
      "Trainable params: 266,610\n",
      "Non-trainable params: 0\n",
      "_________________________________________________________________\n"
     ]
    }
   ],
   "source": [
    "load_main_model = keras.models.load_model(\"main_model\")\n",
    "load_main_model.summary()"
   ]
  },
  {
   "cell_type": "code",
   "execution_count": 49,
   "metadata": {},
   "outputs": [
    {
     "data": {
      "text/plain": [
       "array([[1., 0., 0., 0., 0., 0., 0., 0., 0., 0.],\n",
       "       [0., 0., 0., 0., 1., 0., 0., 0., 0., 0.],\n",
       "       [0., 1., 0., 0., 0., 0., 0., 0., 0., 0.],\n",
       "       [0., 0., 0., 0., 1., 0., 0., 0., 0., 0.]], dtype=float32)"
      ]
     },
     "execution_count": 49,
     "metadata": {},
     "output_type": "execute_result"
    }
   ],
   "source": [
    "model.predict(X_test[3:7]).round(2)"
   ]
  },
  {
   "cell_type": "code",
   "execution_count": 50,
   "metadata": {},
   "outputs": [
    {
     "data": {
      "text/plain": [
       "array([0, 4, 1, 4], dtype=uint8)"
      ]
     },
     "execution_count": 50,
     "metadata": {},
     "output_type": "execute_result"
    }
   ],
   "source": [
    "y_test[3:7]"
   ]
  },
  {
   "cell_type": "code",
   "execution_count": 51,
   "metadata": {},
   "outputs": [],
   "source": [
    "model_load_weights = keras.models.Sequential()\n",
    "model_load_weights.add(keras.layers.Flatten(input_shape=[28, 28]))\n",
    "model_load_weights.add(keras.layers.Dense(300, activation=\"relu\"))\n",
    "model_load_weights.add(keras.layers.Dense(100, activation=\"relu\"))\n",
    "model_load_weights.add(keras.layers.Dense(10, activation=\"softmax\"))"
   ]
  },
  {
   "cell_type": "code",
   "execution_count": 52,
   "metadata": {},
   "outputs": [
    {
     "data": {
      "text/plain": [
       "<tensorflow.python.training.tracking.util.CheckpointLoadStatus at 0x293012c21d0>"
      ]
     },
     "execution_count": 52,
     "metadata": {},
     "output_type": "execute_result"
    }
   ],
   "source": [
    "model.save_weights(\"main_model_weights.ckpt\")\n",
    "model_load_weights.load_weights(\"main_model_weights.ckpt\")"
   ]
  },
  {
   "cell_type": "code",
   "execution_count": 53,
   "metadata": {},
   "outputs": [
    {
     "name": "stdout",
     "output_type": "stream",
     "text": [
      "Model: \"sequential_2\"\n",
      "_________________________________________________________________\n",
      "Layer (type)                 Output Shape              Param #   \n",
      "=================================================================\n",
      "flatten_2 (Flatten)          (None, 784)               0         \n",
      "_________________________________________________________________\n",
      "dense_6 (Dense)              (None, 300)               235500    \n",
      "_________________________________________________________________\n",
      "dense_7 (Dense)              (None, 100)               30100     \n",
      "_________________________________________________________________\n",
      "dense_8 (Dense)              (None, 10)                1010      \n",
      "=================================================================\n",
      "Total params: 266,610\n",
      "Trainable params: 266,610\n",
      "Non-trainable params: 0\n",
      "_________________________________________________________________\n"
     ]
    }
   ],
   "source": [
    "model_load_weights.summary()"
   ]
  },
  {
   "cell_type": "code",
   "execution_count": 54,
   "metadata": {},
   "outputs": [
    {
     "data": {
      "text/plain": [
       "array([[1., 0., 0., 0., 0., 0., 0., 0., 0., 0.],\n",
       "       [0., 0., 0., 0., 1., 0., 0., 0., 0., 0.],\n",
       "       [0., 1., 0., 0., 0., 0., 0., 0., 0., 0.],\n",
       "       [0., 0., 0., 0., 1., 0., 0., 0., 0., 0.]], dtype=float32)"
      ]
     },
     "execution_count": 54,
     "metadata": {},
     "output_type": "execute_result"
    }
   ],
   "source": [
    "model_load_weights.predict(X_test[3:7]).round(2)"
   ]
  },
  {
   "cell_type": "markdown",
   "metadata": {},
   "source": [
    "##### Transfer Learning\n",
    "\n",
    "However, when you save model A and load it into model B, any change to model B will also affect model A. To avoid this, you will need to clone it using clone_model()."
   ]
  },
  {
   "cell_type": "code",
   "execution_count": 55,
   "metadata": {},
   "outputs": [
    {
     "name": "stdout",
     "output_type": "stream",
     "text": [
      "Model: \"sequential_1\"\n",
      "_________________________________________________________________\n",
      "Layer (type)                 Output Shape              Param #   \n",
      "=================================================================\n",
      "flatten_1 (Flatten)          (None, 784)               0         \n",
      "_________________________________________________________________\n",
      "dense_3 (Dense)              (None, 300)               235500    \n",
      "_________________________________________________________________\n",
      "dense_4 (Dense)              (None, 100)               30100     \n",
      "_________________________________________________________________\n",
      "dense_5 (Dense)              (None, 10)                1010      \n",
      "=================================================================\n",
      "Total params: 266,610\n",
      "Trainable params: 266,610\n",
      "Non-trainable params: 0\n",
      "_________________________________________________________________\n"
     ]
    }
   ],
   "source": [
    "main_model_clone = keras.models.clone_model(model)\n",
    "main_model_clone.summary()"
   ]
  },
  {
   "cell_type": "code",
   "execution_count": null,
   "metadata": {},
   "outputs": [],
   "source": []
  },
  {
   "cell_type": "markdown",
   "metadata": {},
   "source": [
    "## Using Callbacks during Training"
   ]
  },
  {
   "cell_type": "code",
   "execution_count": 74,
   "metadata": {},
   "outputs": [],
   "source": [
    "keras.backend.clear_session()\n",
    "np.random.seed(42)\n",
    "tf.random.set_seed(42)"
   ]
  },
  {
   "cell_type": "code",
   "execution_count": 75,
   "metadata": {},
   "outputs": [],
   "source": [
    "model_cb = keras.models.Sequential([\n",
    "    keras.layers.Flatten(input_shape=[28, 28]),\n",
    "    keras.layers.Dense(300, activation=\"relu\"),\n",
    "    keras.layers.Dense(100, activation=\"relu\"),\n",
    "    keras.layers.Dense(10, activation=\"softmax\")\n",
    "])"
   ]
  },
  {
   "cell_type": "code",
   "execution_count": 79,
   "metadata": {},
   "outputs": [],
   "source": [
    "model_cb.compile(loss=\"sparse_categorical_crossentropy\",\n",
    "              optimizer=\"sgd\",\n",
    "              metrics=[\"accuracy\"])"
   ]
  },
  {
   "cell_type": "code",
   "execution_count": 80,
   "metadata": {},
   "outputs": [
    {
     "name": "stdout",
     "output_type": "stream",
     "text": [
      "Epoch 1/30\n",
      "1716/1719 [============================>.] - ETA: 0s - loss: 0.6204 - accuracy: 0.8403INFO:tensorflow:Assets written to: main_model_cb\\assets\n",
      "1719/1719 [==============================] - 4s 3ms/step - loss: 0.6196 - accuracy: 0.8405 - val_loss: 0.3103 - val_accuracy: 0.9120\n",
      "Epoch 2/30\n",
      "1695/1719 [============================>.] - ETA: 0s - loss: 0.2959 - accuracy: 0.9150INFO:tensorflow:Assets written to: main_model_cb\\assets\n",
      "1719/1719 [==============================] - 4s 2ms/step - loss: 0.2954 - accuracy: 0.9151 - val_loss: 0.2473 - val_accuracy: 0.9304\n",
      "Epoch 3/30\n",
      "1704/1719 [============================>.] - ETA: 0s - loss: 0.2432 - accuracy: 0.9302INFO:tensorflow:Assets written to: main_model_cb\\assets\n",
      "1719/1719 [==============================] - 4s 2ms/step - loss: 0.2430 - accuracy: 0.9302 - val_loss: 0.2060 - val_accuracy: 0.9428\n",
      "Epoch 4/30\n",
      "1717/1719 [============================>.] - ETA: 0s - loss: 0.2076 - accuracy: 0.9406INFO:tensorflow:Assets written to: main_model_cb\\assets\n",
      "1719/1719 [==============================] - 4s 3ms/step - loss: 0.2076 - accuracy: 0.9405 - val_loss: 0.1824 - val_accuracy: 0.9494\n",
      "Epoch 5/30\n",
      "1701/1719 [============================>.] - ETA: 0s - loss: 0.1809 - accuracy: 0.9487INFO:tensorflow:Assets written to: main_model_cb\\assets\n",
      "1719/1719 [==============================] - 4s 2ms/step - loss: 0.1811 - accuracy: 0.9486 - val_loss: 0.1644 - val_accuracy: 0.9540\n",
      "Epoch 6/30\n",
      "1709/1719 [============================>.] - ETA: 0s - loss: 0.1605 - accuracy: 0.9542INFO:tensorflow:Assets written to: main_model_cb\\assets\n",
      "1719/1719 [==============================] - 4s 2ms/step - loss: 0.1603 - accuracy: 0.9542 - val_loss: 0.1482 - val_accuracy: 0.9602\n",
      "Epoch 7/30\n",
      "1706/1719 [============================>.] - ETA: 0s - loss: 0.1432 - accuracy: 0.9598INFO:tensorflow:Assets written to: main_model_cb\\assets\n",
      "1719/1719 [==============================] - 4s 3ms/step - loss: 0.1431 - accuracy: 0.9598 - val_loss: 0.1366 - val_accuracy: 0.9628\n",
      "Epoch 8/30\n",
      "1717/1719 [============================>.] - ETA: 0s - loss: 0.1291 - accuracy: 0.9633INFO:tensorflow:Assets written to: main_model_cb\\assets\n",
      "1719/1719 [==============================] - 4s 3ms/step - loss: 0.1291 - accuracy: 0.9633 - val_loss: 0.1295 - val_accuracy: 0.9638\n",
      "Epoch 9/30\n",
      "1712/1719 [============================>.] - ETA: 0s - loss: 0.1176 - accuracy: 0.9673INFO:tensorflow:Assets written to: main_model_cb\\assets\n",
      "1719/1719 [==============================] - 4s 3ms/step - loss: 0.1174 - accuracy: 0.9673 - val_loss: 0.1183 - val_accuracy: 0.9672\n",
      "Epoch 10/30\n",
      "1701/1719 [============================>.] - ETA: 0s - loss: 0.1079 - accuracy: 0.9697INFO:tensorflow:Assets written to: main_model_cb\\assets\n",
      "1719/1719 [==============================] - 5s 3ms/step - loss: 0.1077 - accuracy: 0.9696 - val_loss: 0.1091 - val_accuracy: 0.9692\n",
      "Epoch 11/30\n",
      "1713/1719 [============================>.] - ETA: 0s - loss: 0.0987 - accuracy: 0.9723INFO:tensorflow:Assets written to: main_model_cb\\assets\n",
      "1719/1719 [==============================] - 5s 3ms/step - loss: 0.0988 - accuracy: 0.9722 - val_loss: 0.1049 - val_accuracy: 0.9696\n",
      "Epoch 12/30\n",
      "1713/1719 [============================>.] - ETA: 0s - loss: 0.0906 - accuracy: 0.9745INFO:tensorflow:Assets written to: main_model_cb\\assets\n",
      "1719/1719 [==============================] - 6s 3ms/step - loss: 0.0911 - accuracy: 0.9744 - val_loss: 0.1005 - val_accuracy: 0.9706\n",
      "Epoch 13/30\n",
      "1708/1719 [============================>.] - ETA: 0s - loss: 0.0840 - accuracy: 0.9762INFO:tensorflow:Assets written to: main_model_cb\\assets\n",
      "1719/1719 [==============================] - 5s 3ms/step - loss: 0.0843 - accuracy: 0.9762 - val_loss: 0.0949 - val_accuracy: 0.9728\n",
      "Epoch 14/30\n",
      "1712/1719 [============================>.] - ETA: 0s - loss: 0.0780 - accuracy: 0.9782INFO:tensorflow:Assets written to: main_model_cb\\assets\n",
      "1719/1719 [==============================] - 4s 3ms/step - loss: 0.0781 - accuracy: 0.9781 - val_loss: 0.0920 - val_accuracy: 0.9734\n",
      "Epoch 15/30\n",
      "1704/1719 [============================>.] - ETA: 0s - loss: 0.0724 - accuracy: 0.9795INFO:tensorflow:Assets written to: main_model_cb\\assets\n",
      "1719/1719 [==============================] - 4s 2ms/step - loss: 0.0726 - accuracy: 0.9795 - val_loss: 0.0878 - val_accuracy: 0.9728\n",
      "Epoch 16/30\n",
      "1705/1719 [============================>.] - ETA: 0s - loss: 0.0677 - accuracy: 0.9806INFO:tensorflow:Assets written to: main_model_cb\\assets\n",
      "1719/1719 [==============================] - 4s 2ms/step - loss: 0.0677 - accuracy: 0.9805 - val_loss: 0.0862 - val_accuracy: 0.9738\n",
      "Epoch 17/30\n",
      "1693/1719 [============================>.] - ETA: 0s - loss: 0.0634 - accuracy: 0.9822INFO:tensorflow:Assets written to: main_model_cb\\assets\n",
      "1719/1719 [==============================] - 4s 3ms/step - loss: 0.0632 - accuracy: 0.9823 - val_loss: 0.0835 - val_accuracy: 0.9748\n",
      "Epoch 18/30\n",
      "1692/1719 [============================>.] - ETA: 0s - loss: 0.0592 - accuracy: 0.9836INFO:tensorflow:Assets written to: main_model_cb\\assets\n",
      "1719/1719 [==============================] - 4s 2ms/step - loss: 0.0592 - accuracy: 0.9835 - val_loss: 0.0800 - val_accuracy: 0.9762\n",
      "Epoch 19/30\n",
      "1692/1719 [============================>.] - ETA: 0s - loss: 0.0556 - accuracy: 0.9850INFO:tensorflow:Assets written to: main_model_cb\\assets\n",
      "1719/1719 [==============================] - 5s 3ms/step - loss: 0.0555 - accuracy: 0.9850 - val_loss: 0.0783 - val_accuracy: 0.9774\n",
      "Epoch 20/30\n",
      "1695/1719 [============================>.] - ETA: 0s - loss: 0.0518 - accuracy: 0.9861INFO:tensorflow:Assets written to: main_model_cb\\assets\n",
      "1719/1719 [==============================] - 5s 3ms/step - loss: 0.0520 - accuracy: 0.9861 - val_loss: 0.0775 - val_accuracy: 0.9764\n",
      "Epoch 21/30\n",
      "1700/1719 [============================>.] - ETA: 0s - loss: 0.0489 - accuracy: 0.9870INFO:tensorflow:Assets written to: main_model_cb\\assets\n",
      "1719/1719 [==============================] - 5s 3ms/step - loss: 0.0488 - accuracy: 0.9870 - val_loss: 0.0736 - val_accuracy: 0.9784\n",
      "Epoch 22/30\n",
      "1719/1719 [==============================] - 4s 2ms/step - loss: 0.0459 - accuracy: 0.9877 - val_loss: 0.0743 - val_accuracy: 0.9776\n",
      "Epoch 23/30\n",
      "1719/1719 [==============================] - 3s 2ms/step - loss: 0.0432 - accuracy: 0.9884 - val_loss: 0.0756 - val_accuracy: 0.9768\n",
      "Epoch 24/30\n",
      "1713/1719 [============================>.] - ETA: 0s - loss: 0.0403 - accuracy: 0.9894INFO:tensorflow:Assets written to: main_model_cb\\assets\n",
      "1719/1719 [==============================] - 4s 2ms/step - loss: 0.0404 - accuracy: 0.9893 - val_loss: 0.0727 - val_accuracy: 0.9772\n",
      "Epoch 25/30\n",
      "1706/1719 [============================>.] - ETA: 0s - loss: 0.0383 - accuracy: 0.9901INFO:tensorflow:Assets written to: main_model_cb\\assets\n",
      "1719/1719 [==============================] - 5s 3ms/step - loss: 0.0384 - accuracy: 0.9900 - val_loss: 0.0708 - val_accuracy: 0.9792\n",
      "Epoch 26/30\n",
      "1707/1719 [============================>.] - ETA: 0s - loss: 0.0360 - accuracy: 0.9911INFO:tensorflow:Assets written to: main_model_cb\\assets\n",
      "1719/1719 [==============================] - 4s 2ms/step - loss: 0.0360 - accuracy: 0.9911 - val_loss: 0.0680 - val_accuracy: 0.9798\n",
      "Epoch 27/30\n",
      "1714/1719 [============================>.] - ETA: 0s - loss: 0.0340 - accuracy: 0.9916INFO:tensorflow:Assets written to: main_model_cb\\assets\n",
      "1719/1719 [==============================] - 4s 2ms/step - loss: 0.0340 - accuracy: 0.9916 - val_loss: 0.0673 - val_accuracy: 0.9804\n",
      "Epoch 28/30\n",
      "1719/1719 [==============================] - 3s 2ms/step - loss: 0.0322 - accuracy: 0.9921 - val_loss: 0.0692 - val_accuracy: 0.9802\n",
      "Epoch 29/30\n",
      "1719/1719 [==============================] - 3s 2ms/step - loss: 0.0301 - accuracy: 0.9931 - val_loss: 0.0676 - val_accuracy: 0.9790\n",
      "Epoch 30/30\n",
      "1713/1719 [============================>.] - ETA: 0s - loss: 0.0285 - accuracy: 0.9935INFO:tensorflow:Assets written to: main_model_cb\\assets\n",
      "1719/1719 [==============================] - 4s 3ms/step - loss: 0.0286 - accuracy: 0.9935 - val_loss: 0.0672 - val_accuracy: 0.9798\n",
      "313/313 [==============================] - 0s 1ms/step - loss: 0.0693 - accuracy: 0.9798\n"
     ]
    },
    {
     "data": {
      "text/plain": [
       "[0.0692683681845665, 0.9797999858856201]"
      ]
     },
     "execution_count": 80,
     "metadata": {},
     "output_type": "execute_result"
    }
   ],
   "source": [
    "checkpoint_cb = keras.callbacks.ModelCheckpoint(\"main_model_cb\", save_best_only=True)\n",
    "history = model_cb.fit(X_train, y_train, epochs=30,\n",
    "                    validation_data=(X_valid, y_valid),\n",
    "                    callbacks=[checkpoint_cb])\n",
    "model_cb = keras.models.load_model(\"main_model_cb\") # rollback to best model\n",
    "model_cb.evaluate(X_test, y_test)"
   ]
  },
  {
   "cell_type": "code",
   "execution_count": null,
   "metadata": {},
   "outputs": [],
   "source": []
  },
  {
   "cell_type": "markdown",
   "metadata": {},
   "source": [
    "## TensorBoard"
   ]
  },
  {
   "cell_type": "code",
   "execution_count": 81,
   "metadata": {},
   "outputs": [],
   "source": [
    "root_logdir = os.path.join(os.curdir, \"my_logs\")"
   ]
  },
  {
   "cell_type": "code",
   "execution_count": 82,
   "metadata": {},
   "outputs": [
    {
     "data": {
      "text/plain": [
       "'.\\\\my_logs\\\\run_2020_05_25-21_45_16'"
      ]
     },
     "execution_count": 82,
     "metadata": {},
     "output_type": "execute_result"
    }
   ],
   "source": [
    "def get_run_logdir():\n",
    "    import time\n",
    "    run_id = time.strftime(\"run_%Y_%m_%d-%H_%M_%S\")\n",
    "    return os.path.join(root_logdir, run_id)\n",
    "\n",
    "run_logdir = get_run_logdir()\n",
    "run_logdir"
   ]
  },
  {
   "cell_type": "code",
   "execution_count": 83,
   "metadata": {},
   "outputs": [],
   "source": [
    "keras.backend.clear_session()\n",
    "np.random.seed(42)\n",
    "tf.random.set_seed(42)"
   ]
  },
  {
   "cell_type": "code",
   "execution_count": 84,
   "metadata": {},
   "outputs": [],
   "source": [
    "model_tensor = keras.models.Sequential([\n",
    "    keras.layers.Flatten(input_shape=[28, 28]),\n",
    "    keras.layers.Dense(300, activation=\"relu\"),\n",
    "    keras.layers.Dense(100, activation=\"relu\"),\n",
    "    keras.layers.Dense(10, activation=\"softmax\")\n",
    "])    \n",
    "\n",
    "# compile \n",
    "model_tensor.compile(loss=\"sparse_categorical_crossentropy\",\n",
    "              optimizer=\"sgd\",\n",
    "              metrics=[\"accuracy\"])"
   ]
  },
  {
   "cell_type": "code",
   "execution_count": 85,
   "metadata": {},
   "outputs": [
    {
     "name": "stdout",
     "output_type": "stream",
     "text": [
      "Epoch 1/30\n",
      "   2/1719 [..............................] - ETA: 13:28 - loss: 2.5410 - accuracy: 0.0781WARNING:tensorflow:Method (on_train_batch_end) is slow compared to the batch update (0.461600). Check your callbacks.\n",
      "1719/1719 [==============================] - 5s 3ms/step - loss: 0.6196 - accuracy: 0.8405 - val_loss: 0.3103 - val_accuracy: 0.9120\n",
      "Epoch 2/30\n",
      "1719/1719 [==============================] - 4s 2ms/step - loss: 0.2954 - accuracy: 0.9151 - val_loss: 0.2473 - val_accuracy: 0.9304\n",
      "Epoch 3/30\n",
      "1719/1719 [==============================] - 4s 2ms/step - loss: 0.2430 - accuracy: 0.9302 - val_loss: 0.2060 - val_accuracy: 0.9428\n",
      "Epoch 4/30\n",
      "1719/1719 [==============================] - 4s 2ms/step - loss: 0.2076 - accuracy: 0.9405 - val_loss: 0.1824 - val_accuracy: 0.9494\n",
      "Epoch 5/30\n",
      "1719/1719 [==============================] - 4s 2ms/step - loss: 0.1811 - accuracy: 0.9486 - val_loss: 0.1644 - val_accuracy: 0.9540\n",
      "Epoch 6/30\n",
      "1719/1719 [==============================] - 4s 2ms/step - loss: 0.1603 - accuracy: 0.9542 - val_loss: 0.1482 - val_accuracy: 0.9602\n",
      "Epoch 7/30\n",
      "1719/1719 [==============================] - 4s 2ms/step - loss: 0.1431 - accuracy: 0.9598 - val_loss: 0.1366 - val_accuracy: 0.9628\n",
      "Epoch 8/30\n",
      "1719/1719 [==============================] - 4s 2ms/step - loss: 0.1291 - accuracy: 0.9633 - val_loss: 0.1295 - val_accuracy: 0.9638\n",
      "Epoch 9/30\n",
      "1719/1719 [==============================] - 4s 2ms/step - loss: 0.1174 - accuracy: 0.9673 - val_loss: 0.1183 - val_accuracy: 0.9672\n",
      "Epoch 10/30\n",
      "1719/1719 [==============================] - 5s 3ms/step - loss: 0.1077 - accuracy: 0.9696 - val_loss: 0.1091 - val_accuracy: 0.9692\n",
      "Epoch 11/30\n",
      "1719/1719 [==============================] - 4s 2ms/step - loss: 0.0988 - accuracy: 0.9722 - val_loss: 0.1049 - val_accuracy: 0.9696\n",
      "Epoch 12/30\n",
      "1719/1719 [==============================] - 4s 2ms/step - loss: 0.0911 - accuracy: 0.9744 - val_loss: 0.1005 - val_accuracy: 0.9706\n",
      "Epoch 13/30\n",
      "1719/1719 [==============================] - 4s 2ms/step - loss: 0.0843 - accuracy: 0.9762 - val_loss: 0.0949 - val_accuracy: 0.9728\n",
      "Epoch 14/30\n",
      "1719/1719 [==============================] - 4s 2ms/step - loss: 0.0781 - accuracy: 0.9781 - val_loss: 0.0920 - val_accuracy: 0.9734\n",
      "Epoch 15/30\n",
      "1719/1719 [==============================] - 4s 2ms/step - loss: 0.0726 - accuracy: 0.9795 - val_loss: 0.0878 - val_accuracy: 0.9728\n",
      "Epoch 16/30\n",
      "1719/1719 [==============================] - 4s 2ms/step - loss: 0.0677 - accuracy: 0.9805 - val_loss: 0.0862 - val_accuracy: 0.9738\n",
      "Epoch 17/30\n",
      "1719/1719 [==============================] - 4s 2ms/step - loss: 0.0632 - accuracy: 0.9823 - val_loss: 0.0835 - val_accuracy: 0.9748\n",
      "Epoch 18/30\n",
      "1719/1719 [==============================] - 4s 2ms/step - loss: 0.0592 - accuracy: 0.9835 - val_loss: 0.0800 - val_accuracy: 0.9762\n",
      "Epoch 19/30\n",
      "1719/1719 [==============================] - 4s 2ms/step - loss: 0.0555 - accuracy: 0.9850 - val_loss: 0.0783 - val_accuracy: 0.9774\n",
      "Epoch 20/30\n",
      "1719/1719 [==============================] - 4s 2ms/step - loss: 0.0520 - accuracy: 0.9861 - val_loss: 0.0775 - val_accuracy: 0.9764\n",
      "Epoch 21/30\n",
      "1719/1719 [==============================] - 4s 2ms/step - loss: 0.0488 - accuracy: 0.9870 - val_loss: 0.0736 - val_accuracy: 0.9784\n",
      "Epoch 22/30\n",
      "1719/1719 [==============================] - 4s 2ms/step - loss: 0.0459 - accuracy: 0.9877 - val_loss: 0.0743 - val_accuracy: 0.9776\n",
      "Epoch 23/30\n",
      "1719/1719 [==============================] - 4s 2ms/step - loss: 0.0432 - accuracy: 0.9884 - val_loss: 0.0756 - val_accuracy: 0.9768\n",
      "Epoch 24/30\n",
      "1719/1719 [==============================] - 4s 2ms/step - loss: 0.0404 - accuracy: 0.9893 - val_loss: 0.0727 - val_accuracy: 0.9772\n",
      "Epoch 25/30\n",
      "1719/1719 [==============================] - 4s 2ms/step - loss: 0.0384 - accuracy: 0.9900 - val_loss: 0.0708 - val_accuracy: 0.9792\n",
      "Epoch 26/30\n",
      "1719/1719 [==============================] - 4s 2ms/step - loss: 0.0360 - accuracy: 0.9911 - val_loss: 0.0680 - val_accuracy: 0.9798\n",
      "Epoch 27/30\n",
      "1719/1719 [==============================] - 4s 2ms/step - loss: 0.0340 - accuracy: 0.9916 - val_loss: 0.0673 - val_accuracy: 0.9804\n",
      "Epoch 28/30\n",
      "1719/1719 [==============================] - 4s 2ms/step - loss: 0.0322 - accuracy: 0.9921 - val_loss: 0.0692 - val_accuracy: 0.9802\n",
      "Epoch 29/30\n",
      "1719/1719 [==============================] - 4s 2ms/step - loss: 0.0301 - accuracy: 0.9931 - val_loss: 0.0676 - val_accuracy: 0.9790\n",
      "Epoch 30/30\n",
      "1719/1719 [==============================] - 4s 2ms/step - loss: 0.0286 - accuracy: 0.9935 - val_loss: 0.0672 - val_accuracy: 0.9798\n"
     ]
    }
   ],
   "source": [
    "tensorboard_cb = keras.callbacks.TensorBoard(run_logdir)\n",
    "history = model_tensor.fit(X_train, y_train, epochs=30,\n",
    "                    validation_data=(X_valid, y_valid),\n",
    "                    callbacks=[checkpoint_cb, tensorboard_cb])"
   ]
  },
  {
   "cell_type": "code",
   "execution_count": 86,
   "metadata": {},
   "outputs": [
    {
     "data": {
      "text/plain": [
       "ERROR: Timed out waiting for TensorBoard to start. It may still be running as pid 4740."
      ]
     },
     "metadata": {},
     "output_type": "display_data"
    }
   ],
   "source": [
    "%load_ext tensorboard\n",
    "%tensorboard --logdir=./my_logs --port=6006"
   ]
  },
  {
   "cell_type": "markdown",
   "metadata": {},
   "source": [
    "//////////////////////////////////////////////////////////////////////////////////////////////////////////////////////////////////////////////////////////////////////////////////////////////////////////////////////////////////////////////////////"
   ]
  },
  {
   "cell_type": "markdown",
   "metadata": {},
   "source": [
    "## Learning Rate"
   ]
  },
  {
   "cell_type": "markdown",
   "metadata": {},
   "source": [
    "Try searching for the optimal learning rate by using the approach presented in this chapter (i.e., by growing the learning rate exponentially, plotting the loss, and finding the point where the loss shoots up)"
   ]
  },
  {
   "cell_type": "code",
   "execution_count": 98,
   "metadata": {},
   "outputs": [],
   "source": [
    "K = keras.backend\n",
    "\n",
    "class ExponentialLearningRate(keras.callbacks.Callback):\n",
    "    def __init__(self, factor):\n",
    "        self.factor = factor\n",
    "        self.rates = []\n",
    "        self.losses = []\n",
    "    def on_batch_end(self, batch, logs):\n",
    "        self.rates.append(K.get_value(self.model.optimizer.lr))\n",
    "        self.losses.append(logs[\"loss\"])\n",
    "        K.set_value(self.model.optimizer.lr, self.model.optimizer.lr * self.factor)"
   ]
  },
  {
   "cell_type": "code",
   "execution_count": 99,
   "metadata": {},
   "outputs": [],
   "source": [
    "keras.backend.clear_session()\n",
    "np.random.seed(42)\n",
    "tf.random.set_seed(42)"
   ]
  },
  {
   "cell_type": "code",
   "execution_count": 100,
   "metadata": {},
   "outputs": [],
   "source": [
    "model_lr = keras.models.Sequential([\n",
    "    keras.layers.Flatten(input_shape=[28, 28]),\n",
    "    keras.layers.Dense(300, activation=\"relu\"),\n",
    "    keras.layers.Dense(100, activation=\"relu\"),\n",
    "    keras.layers.Dense(10, activation=\"softmax\")\n",
    "])    \n",
    "\n",
    "# compile \n",
    "model_lr.compile(loss=\"sparse_categorical_crossentropy\",\n",
    "              optimizer=keras.optimizers.SGD(lr=1e-3),\n",
    "              metrics=[\"accuracy\"])"
   ]
  },
  {
   "cell_type": "code",
   "execution_count": 101,
   "metadata": {},
   "outputs": [],
   "source": [
    "expon_lr = ExponentialLearningRate(factor=1.005)"
   ]
  },
  {
   "cell_type": "code",
   "execution_count": 102,
   "metadata": {},
   "outputs": [
    {
     "name": "stdout",
     "output_type": "stream",
     "text": [
      "1719/1719 [==============================] - 4s 2ms/step - loss: 368436281344.0000 - accuracy: 0.5679 - val_loss: 2.3911 - val_accuracy: 0.1126\n"
     ]
    }
   ],
   "source": [
    "history = model_lr.fit(X_train, y_train, epochs=1,\n",
    "                    validation_data=(X_valid, y_valid),\n",
    "                    callbacks=[expon_lr])"
   ]
  },
  {
   "cell_type": "code",
   "execution_count": 104,
   "metadata": {},
   "outputs": [
    {
     "data": {
      "text/plain": [
       "Text(0, 0.5, 'Loss')"
      ]
     },
     "execution_count": 104,
     "metadata": {},
     "output_type": "execute_result"
    },
    {
     "data": {
      "image/png": "[encoded data removed]",
      "text/plain": [
       "<Figure size 432x288 with 1 Axes>"
      ]
     },
     "metadata": {
      "needs_background": "light"
     },
     "output_type": "display_data"
    }
   ],
   "source": [
    "plt.plot(expon_lr.rates, expon_lr.losses)\n",
    "plt.gca().set_xscale('log')\n",
    "plt.hlines(min(expon_lr.losses), min(expon_lr.rates), max(expon_lr.rates))\n",
    "plt.axis([min(expon_lr.rates), max(expon_lr.rates), 0, expon_lr.losses[0]])\n",
    "plt.xlabel(\"Learning rate\")\n",
    "plt.ylabel(\"Loss\")"
   ]
  },
  {
   "cell_type": "code",
   "execution_count": 112,
   "metadata": {},
   "outputs": [],
   "source": [
    "keras.backend.clear_session()\n",
    "np.random.seed(42)\n",
    "tf.random.set_seed(42)"
   ]
  },
  {
   "cell_type": "code",
   "execution_count": 113,
   "metadata": {},
   "outputs": [],
   "source": [
    "model_lr = keras.models.Sequential([\n",
    "    keras.layers.Flatten(input_shape=[28, 28]),\n",
    "    keras.layers.Dense(300, activation=\"relu\"),\n",
    "    keras.layers.Dense(100, activation=\"relu\"),\n",
    "    keras.layers.Dense(10, activation=\"softmax\")\n",
    "])"
   ]
  },
  {
   "cell_type": "code",
   "execution_count": 114,
   "metadata": {},
   "outputs": [],
   "source": [
    "model_lr.compile(loss=\"sparse_categorical_crossentropy\",\n",
    "              optimizer=keras.optimizers.SGD(lr=2e-1),\n",
    "              metrics=[\"accuracy\"])"
   ]
  },
  {
   "cell_type": "code",
   "execution_count": 115,
   "metadata": {},
   "outputs": [
    {
     "data": {
      "text/plain": [
       "'.\\\\my_mnist_logs\\\\run_001'"
      ]
     },
     "execution_count": 115,
     "metadata": {},
     "output_type": "execute_result"
    }
   ],
   "source": [
    "run_index = 1 # increment this at every run\n",
    "run_logdir = os.path.join(os.curdir, \"my_mnist_logs\", \"run_{:03d}\".format(run_index))\n",
    "run_logdir"
   ]
  },
  {
   "cell_type": "code",
   "execution_count": 116,
   "metadata": {},
   "outputs": [
    {
     "name": "stdout",
     "output_type": "stream",
     "text": [
      "Epoch 1/100\n",
      "   2/1719 [..............................] - ETA: 4:24 - loss: 2.4497 - accuracy: 0.1250WARNING:tensorflow:Method (on_train_batch_end) is slow compared to the batch update (0.152083). Check your callbacks.\n",
      "1697/1719 [============================>.] - ETA: 0s - loss: 0.2390 - accuracy: 0.9267INFO:tensorflow:Assets written to: digit_mnist_model_lr\\assets\n",
      "1719/1719 [==============================] - 5s 3ms/step - loss: 0.2379 - accuracy: 0.9270 - val_loss: 0.1022 - val_accuracy: 0.9696\n",
      "Epoch 2/100\n",
      "1694/1719 [============================>.] - ETA: 0s - loss: 0.0947 - accuracy: 0.9710INFO:tensorflow:Assets written to: digit_mnist_model_lr\\assets\n",
      "1719/1719 [==============================] - 5s 3ms/step - loss: 0.0946 - accuracy: 0.9711 - val_loss: 0.0895 - val_accuracy: 0.9752\n",
      "Epoch 3/100\n",
      "1706/1719 [============================>.] - ETA: 0s - loss: 0.0641 - accuracy: 0.9794INFO:tensorflow:Assets written to: digit_mnist_model_lr\\assets\n",
      "1719/1719 [==============================] - 5s 3ms/step - loss: 0.0638 - accuracy: 0.9795 - val_loss: 0.0687 - val_accuracy: 0.9806\n",
      "Epoch 4/100\n",
      "1719/1719 [==============================] - 4s 2ms/step - loss: 0.0463 - accuracy: 0.9847 - val_loss: 0.0798 - val_accuracy: 0.9772\n",
      "Epoch 5/100\n",
      "1719/1719 [==============================] - 4s 2ms/step - loss: 0.0331 - accuracy: 0.9888 - val_loss: 0.0750 - val_accuracy: 0.9802\n",
      "Epoch 6/100\n",
      "1719/1719 [==============================] - 4s 2ms/step - loss: 0.0252 - accuracy: 0.9913 - val_loss: 0.0741 - val_accuracy: 0.9788\n",
      "Epoch 7/100\n",
      "1719/1719 [==============================] - 4s 2ms/step - loss: 0.0200 - accuracy: 0.9939 - val_loss: 0.0857 - val_accuracy: 0.9786\n",
      "Epoch 8/100\n",
      "1719/1719 [==============================] - 4s 2ms/step - loss: 0.0139 - accuracy: 0.9957 - val_loss: 0.0821 - val_accuracy: 0.9804\n",
      "Epoch 9/100\n",
      "1719/1719 [==============================] - 4s 2ms/step - loss: 0.0107 - accuracy: 0.9968 - val_loss: 0.0866 - val_accuracy: 0.9814\n",
      "Epoch 10/100\n",
      "1719/1719 [==============================] - 4s 2ms/step - loss: 0.0086 - accuracy: 0.9973 - val_loss: 0.0764 - val_accuracy: 0.9820\n",
      "Epoch 11/100\n",
      "1719/1719 [==============================] - 4s 2ms/step - loss: 0.0042 - accuracy: 0.9989 - val_loss: 0.0738 - val_accuracy: 0.9864\n",
      "Epoch 12/100\n",
      "1719/1719 [==============================] - 4s 2ms/step - loss: 0.0015 - accuracy: 0.9997 - val_loss: 0.0757 - val_accuracy: 0.9860\n",
      "Epoch 13/100\n",
      "1719/1719 [==============================] - 4s 3ms/step - loss: 0.0013 - accuracy: 0.9997 - val_loss: 0.0714 - val_accuracy: 0.9858\n",
      "Epoch 14/100\n",
      "1719/1719 [==============================] - 4s 3ms/step - loss: 4.9660e-04 - accuracy: 1.0000 - val_loss: 0.0738 - val_accuracy: 0.9866\n",
      "Epoch 15/100\n",
      "1719/1719 [==============================] - 5s 3ms/step - loss: 2.6430e-04 - accuracy: 1.0000 - val_loss: 0.0763 - val_accuracy: 0.9868\n",
      "Epoch 16/100\n",
      "1719/1719 [==============================] - 4s 2ms/step - loss: 2.1426e-04 - accuracy: 1.0000 - val_loss: 0.0773 - val_accuracy: 0.9868\n",
      "Epoch 17/100\n",
      "1719/1719 [==============================] - 4s 2ms/step - loss: 1.8652e-04 - accuracy: 1.0000 - val_loss: 0.0787 - val_accuracy: 0.9870\n",
      "Epoch 18/100\n",
      "1719/1719 [==============================] - 4s 2ms/step - loss: 1.6236e-04 - accuracy: 1.0000 - val_loss: 0.0796 - val_accuracy: 0.9864\n",
      "Epoch 19/100\n",
      "1719/1719 [==============================] - 3s 2ms/step - loss: 1.4766e-04 - accuracy: 1.0000 - val_loss: 0.0798 - val_accuracy: 0.9866\n",
      "Epoch 20/100\n",
      "1719/1719 [==============================] - 3s 2ms/step - loss: 1.3556e-04 - accuracy: 1.0000 - val_loss: 0.0806 - val_accuracy: 0.9870\n",
      "Epoch 21/100\n",
      "1719/1719 [==============================] - 4s 2ms/step - loss: 1.2605e-04 - accuracy: 1.0000 - val_loss: 0.0809 - val_accuracy: 0.9868\n",
      "Epoch 22/100\n",
      "1719/1719 [==============================] - 4s 2ms/step - loss: 1.1732e-04 - accuracy: 1.0000 - val_loss: 0.0816 - val_accuracy: 0.9862\n",
      "Epoch 23/100\n",
      "1719/1719 [==============================] - 4s 2ms/step - loss: 1.0966e-04 - accuracy: 1.0000 - val_loss: 0.0823 - val_accuracy: 0.9866\n"
     ]
    }
   ],
   "source": [
    "early_stopping_cb = keras.callbacks.EarlyStopping(patience=20)\n",
    "checkpoint_cb = keras.callbacks.ModelCheckpoint(\"digit_mnist_model_lr\", save_best_only=True)\n",
    "tensorboard_cb = keras.callbacks.TensorBoard(run_logdir)\n",
    "\n",
    "history = model_lr.fit(X_train, y_train, epochs=100,\n",
    "                    validation_data=(X_valid, y_valid),\n",
    "                    callbacks=[early_stopping_cb, checkpoint_cb, tensorboard_cb])"
   ]
  },
  {
   "cell_type": "code",
   "execution_count": 117,
   "metadata": {},
   "outputs": [
    {
     "name": "stdout",
     "output_type": "stream",
     "text": [
      "313/313 [==============================] - 0s 1ms/step - loss: 0.0712 - accuracy: 0.9776\n"
     ]
    },
    {
     "data": {
      "text/plain": [
       "[0.07122038304805756, 0.9775999784469604]"
      ]
     },
     "execution_count": 117,
     "metadata": {},
     "output_type": "execute_result"
    }
   ],
   "source": [
    "model_lr = keras.models.load_model(\"digit_mnist_model_lr\") # rollback to best model\n",
    "model_lr.evaluate(X_test, y_test)"
   ]
  },
  {
   "cell_type": "code",
   "execution_count": 120,
   "metadata": {},
   "outputs": [
    {
     "data": {
      "text/plain": [
       "Reusing TensorBoard on port 6006 (pid 16848), started 0:04:59 ago. (Use '!kill 16848' to kill it.)"
      ]
     },
     "metadata": {},
     "output_type": "display_data"
    },
    {
     "data": {
      "text/html": [
       "\n",
       "      <iframe id=\"tensorboard-frame-952c346d7e61c5fc\" width=\"100%\" height=\"800\" frameborder=\"0\">\n",
       "      </iframe>\n",
       "      <script>\n",
       "        (function() {\n",
       "          const frame = document.getElementById(\"tensorboard-frame-952c346d7e61c5fc\");\n",
       "          const url = new URL(\"/\", window.location);\n",
       "          url.port = 6006;\n",
       "          frame.src = url;\n",
       "        })();\n",
       "      </script>\n",
       "  "
      ],
      "text/plain": [
       "<IPython.core.display.HTML object>"
      ]
     },
     "metadata": {},
     "output_type": "display_data"
    }
   ],
   "source": [
    "%tensorboard --logdir=./my_mnist_logs --port=6006"
   ]
  },
  {
   "cell_type": "markdown",
   "metadata": {},
   "source": [
    "## Hyperparameters tuning\n",
    "\n",
    "### Now that we know the best learning rate, let's play around with number of layers, number of neurons per layer and callbacks using Randomized Search"
   ]
  },
  {
   "cell_type": "markdown",
   "metadata": {},
   "source": [
    "### Callbacks"
   ]
  },
  {
   "cell_type": "code",
   "execution_count": 121,
   "metadata": {},
   "outputs": [],
   "source": [
    "keras.backend.clear_session()\n",
    "np.random.seed(42)\n",
    "tf.random.set_seed(42)"
   ]
  },
  {
   "cell_type": "code",
   "execution_count": 122,
   "metadata": {},
   "outputs": [
    {
     "data": {
      "text/plain": [
       "'.\\\\my_logs\\\\run_2020_05_26-13_54_51'"
      ]
     },
     "execution_count": 122,
     "metadata": {},
     "output_type": "execute_result"
    }
   ],
   "source": [
    "run_logdir = get_run_logdir()\n",
    "run_logdir"
   ]
  },
  {
   "cell_type": "code",
   "execution_count": 123,
   "metadata": {},
   "outputs": [],
   "source": [
    "model_cb = keras.models.Sequential([\n",
    "    keras.layers.Flatten(input_shape=[28, 28]),\n",
    "    keras.layers.Dense(300, activation=\"relu\"),\n",
    "    keras.layers.Dense(100, activation=\"relu\"),\n",
    "    keras.layers.Dense(10, activation=\"softmax\")\n",
    "])    \n",
    "\n",
    "# compile \n",
    "model_cb.compile(loss=\"sparse_categorical_crossentropy\",\n",
    "              optimizer=keras.optimizers.SGD(lr=2e-1),\n",
    "              metrics=[\"accuracy\"])"
   ]
  },
  {
   "cell_type": "code",
   "execution_count": 125,
   "metadata": {},
   "outputs": [
    {
     "name": "stdout",
     "output_type": "stream",
     "text": [
      "Epoch 1/100\n",
      "   2/1719 [..............................] - ETA: 48:32 - loss: 2.4497 - accuracy: 0.1250WARNING:tensorflow:Method (on_train_batch_end) is slow compared to the batch update (1.687621). Check your callbacks.\n",
      "1707/1719 [============================>.] - ETA: 0s - loss: 0.2387 - accuracy: 0.9268\n",
      "Epoch 00001: val_accuracy improved from -inf to 0.96960, saving model to model_cb.h5\n",
      "1719/1719 [==============================] - 7s 4ms/step - loss: 0.2379 - accuracy: 0.9270 - val_loss: 0.1022 - val_accuracy: 0.9696\n",
      "Epoch 2/100\n",
      "1701/1719 [============================>.] - ETA: 0s - loss: 0.0944 - accuracy: 0.9711\n",
      "Epoch 00002: val_accuracy improved from 0.96960 to 0.97520, saving model to model_cb.h5\n",
      "1719/1719 [==============================] - 4s 2ms/step - loss: 0.0946 - accuracy: 0.9711 - val_loss: 0.0895 - val_accuracy: 0.9752\n",
      "Epoch 3/100\n",
      "1703/1719 [============================>.] - ETA: 0s - loss: 0.0641 - accuracy: 0.9794\n",
      "Epoch 00003: val_accuracy improved from 0.97520 to 0.98060, saving model to model_cb.h5\n",
      "1719/1719 [==============================] - 4s 2ms/step - loss: 0.0638 - accuracy: 0.9795 - val_loss: 0.0687 - val_accuracy: 0.9806\n",
      "Epoch 4/100\n",
      "1710/1719 [============================>.] - ETA: 0s - loss: 0.0463 - accuracy: 0.9847\n",
      "Epoch 00004: val_accuracy did not improve from 0.98060\n",
      "1719/1719 [==============================] - 4s 2ms/step - loss: 0.0463 - accuracy: 0.9847 - val_loss: 0.0798 - val_accuracy: 0.9772\n",
      "Epoch 5/100\n",
      "1696/1719 [============================>.] - ETA: 0s - loss: 0.0331 - accuracy: 0.9889\n",
      "Epoch 00005: val_accuracy did not improve from 0.98060\n",
      "1719/1719 [==============================] - 4s 2ms/step - loss: 0.0331 - accuracy: 0.9888 - val_loss: 0.0750 - val_accuracy: 0.9802\n",
      "Epoch 6/100\n",
      "1714/1719 [============================>.] - ETA: 0s - loss: 0.0252 - accuracy: 0.9913\n",
      "Epoch 00006: val_accuracy did not improve from 0.98060\n",
      "1719/1719 [==============================] - 4s 2ms/step - loss: 0.0252 - accuracy: 0.9913 - val_loss: 0.0741 - val_accuracy: 0.9788\n",
      "Epoch 7/100\n",
      "1698/1719 [============================>.] - ETA: 0s - loss: 0.0200 - accuracy: 0.9938\n",
      "Epoch 00007: val_accuracy did not improve from 0.98060\n",
      "1719/1719 [==============================] - 4s 2ms/step - loss: 0.0200 - accuracy: 0.9939 - val_loss: 0.0857 - val_accuracy: 0.9786\n",
      "Epoch 8/100\n",
      "1711/1719 [============================>.] - ETA: 0s - loss: 0.0139 - accuracy: 0.9957\n",
      "Epoch 00008: val_accuracy did not improve from 0.98060\n",
      "1719/1719 [==============================] - 4s 2ms/step - loss: 0.0139 - accuracy: 0.9957 - val_loss: 0.0821 - val_accuracy: 0.9804\n",
      "Epoch 9/100\n",
      "1704/1719 [============================>.] - ETA: 0s - loss: 0.0106 - accuracy: 0.9968\n",
      "Epoch 00009: val_accuracy improved from 0.98060 to 0.98140, saving model to model_cb.h5\n",
      "1719/1719 [==============================] - 4s 2ms/step - loss: 0.0107 - accuracy: 0.9968 - val_loss: 0.0866 - val_accuracy: 0.9814\n",
      "Epoch 10/100\n",
      "1719/1719 [==============================] - ETA: 0s - loss: 0.0086 - accuracy: 0.9973\n",
      "Epoch 00010: val_accuracy improved from 0.98140 to 0.98200, saving model to model_cb.h5\n",
      "1719/1719 [==============================] - 4s 2ms/step - loss: 0.0086 - accuracy: 0.9973 - val_loss: 0.0764 - val_accuracy: 0.9820\n",
      "Epoch 11/100\n",
      "1711/1719 [============================>.] - ETA: 0s - loss: 0.0042 - accuracy: 0.9989\n",
      "Epoch 00011: val_accuracy improved from 0.98200 to 0.98640, saving model to model_cb.h5\n",
      "1719/1719 [==============================] - 4s 2ms/step - loss: 0.0042 - accuracy: 0.9989 - val_loss: 0.0738 - val_accuracy: 0.9864\n",
      "Epoch 12/100\n",
      "1702/1719 [============================>.] - ETA: 0s - loss: 0.0014 - accuracy: 0.9998\n",
      "Epoch 00012: val_accuracy did not improve from 0.98640\n",
      "1719/1719 [==============================] - 4s 2ms/step - loss: 0.0015 - accuracy: 0.9997 - val_loss: 0.0757 - val_accuracy: 0.9860\n",
      "Epoch 13/100\n",
      "1703/1719 [============================>.] - ETA: 0s - loss: 0.0013 - accuracy: 0.9997\n",
      "Epoch 00013: val_accuracy did not improve from 0.98640\n",
      "1719/1719 [==============================] - 4s 2ms/step - loss: 0.0013 - accuracy: 0.9997 - val_loss: 0.0714 - val_accuracy: 0.9858\n",
      "Epoch 14/100\n",
      "1716/1719 [============================>.] - ETA: 0s - loss: 4.9715e-04 - accuracy: 1.0000\n",
      "Epoch 00014: val_accuracy improved from 0.98640 to 0.98660, saving model to model_cb.h5\n",
      "1719/1719 [==============================] - 4s 2ms/step - loss: 4.9660e-04 - accuracy: 1.0000 - val_loss: 0.0738 - val_accuracy: 0.9866\n",
      "Epoch 15/100\n",
      "1719/1719 [==============================] - ETA: 0s - loss: 2.6430e-04 - accuracy: 1.0000\n",
      "Epoch 00015: val_accuracy improved from 0.98660 to 0.98680, saving model to model_cb.h5\n",
      "1719/1719 [==============================] - 4s 2ms/step - loss: 2.6430e-04 - accuracy: 1.0000 - val_loss: 0.0763 - val_accuracy: 0.9868\n",
      "Epoch 16/100\n",
      "1699/1719 [============================>.] - ETA: 0s - loss: 2.1451e-04 - accuracy: 1.0000\n",
      "Epoch 00016: val_accuracy did not improve from 0.98680\n",
      "1719/1719 [==============================] - 4s 2ms/step - loss: 2.1426e-04 - accuracy: 1.0000 - val_loss: 0.0773 - val_accuracy: 0.9868\n",
      "Epoch 17/100\n",
      "1701/1719 [============================>.] - ETA: 0s - loss: 1.8680e-04 - accuracy: 1.0000\n",
      "Epoch 00017: val_accuracy improved from 0.98680 to 0.98700, saving model to model_cb.h5\n",
      "1719/1719 [==============================] - 4s 2ms/step - loss: 1.8652e-04 - accuracy: 1.0000 - val_loss: 0.0787 - val_accuracy: 0.9870\n",
      "Epoch 18/100\n",
      "1696/1719 [============================>.] - ETA: 0s - loss: 1.6256e-04 - accuracy: 1.0000\n",
      "Epoch 00018: val_accuracy did not improve from 0.98700\n",
      "1719/1719 [==============================] - 4s 2ms/step - loss: 1.6236e-04 - accuracy: 1.0000 - val_loss: 0.0796 - val_accuracy: 0.9864\n",
      "Epoch 19/100\n",
      "1718/1719 [============================>.] - ETA: 0s - loss: 1.4759e-04 - accuracy: 1.0000\n",
      "Epoch 00019: val_accuracy did not improve from 0.98700\n",
      "1719/1719 [==============================] - 4s 2ms/step - loss: 1.4766e-04 - accuracy: 1.0000 - val_loss: 0.0798 - val_accuracy: 0.9866\n",
      "Epoch 20/100\n",
      "1703/1719 [============================>.] - ETA: 0s - loss: 1.3592e-04 - accuracy: 1.0000\n",
      "Epoch 00020: val_accuracy did not improve from 0.98700\n",
      "1719/1719 [==============================] - 4s 2ms/step - loss: 1.3556e-04 - accuracy: 1.0000 - val_loss: 0.0806 - val_accuracy: 0.9870\n",
      "Epoch 21/100\n",
      "1708/1719 [============================>.] - ETA: 0s - loss: 1.2623e-04 - accuracy: 1.0000\n",
      "Epoch 00021: val_accuracy did not improve from 0.98700\n",
      "1719/1719 [==============================] - 4s 2ms/step - loss: 1.2605e-04 - accuracy: 1.0000 - val_loss: 0.0809 - val_accuracy: 0.9868\n",
      "Epoch 22/100\n",
      "1714/1719 [============================>.] - ETA: 0s - loss: 1.1649e-04 - accuracy: 1.0000\n",
      "Epoch 00022: val_accuracy did not improve from 0.98700\n",
      "1719/1719 [==============================] - 4s 3ms/step - loss: 1.1732e-04 - accuracy: 1.0000 - val_loss: 0.0816 - val_accuracy: 0.9862\n",
      "Epoch 23/100\n",
      "1703/1719 [============================>.] - ETA: 0s - loss: 1.0945e-04 - accuracy: 1.0000\n",
      "Epoch 00023: val_accuracy did not improve from 0.98700\n",
      "1719/1719 [==============================] - 4s 2ms/step - loss: 1.0966e-04 - accuracy: 1.0000 - val_loss: 0.0823 - val_accuracy: 0.9866\n",
      "Epoch 24/100\n",
      "1719/1719 [==============================] - ETA: 0s - loss: 1.0331e-04 - accuracy: 1.0000\n",
      "Epoch 00024: val_accuracy did not improve from 0.98700\n",
      "1719/1719 [==============================] - 4s 2ms/step - loss: 1.0331e-04 - accuracy: 1.0000 - val_loss: 0.0828 - val_accuracy: 0.9864\n",
      "Epoch 25/100\n",
      "1716/1719 [============================>.] - ETA: 0s - loss: 9.8135e-05 - accuracy: 1.0000\n",
      "Epoch 00025: val_accuracy did not improve from 0.98700\n",
      "1719/1719 [==============================] - 4s 2ms/step - loss: 9.7999e-05 - accuracy: 1.0000 - val_loss: 0.0833 - val_accuracy: 0.9866\n",
      "Epoch 26/100\n",
      "1705/1719 [============================>.] - ETA: 0s - loss: 9.2840e-05 - accuracy: 1.0000\n",
      "Epoch 00026: val_accuracy did not improve from 0.98700\n",
      "1719/1719 [==============================] - 4s 2ms/step - loss: 9.3070e-05 - accuracy: 1.0000 - val_loss: 0.0832 - val_accuracy: 0.9866\n",
      "Epoch 27/100\n",
      "1718/1719 [============================>.] - ETA: 0s - loss: 8.8510e-05 - accuracy: 1.0000\n",
      "Epoch 00027: val_accuracy did not improve from 0.98700\n",
      "1719/1719 [==============================] - 4s 2ms/step - loss: 8.8548e-05 - accuracy: 1.0000 - val_loss: 0.0836 - val_accuracy: 0.9868\n"
     ]
    },
    {
     "name": "stdout",
     "output_type": "stream",
     "text": [
      "Epoch 00027: early stopping\n"
     ]
    }
   ],
   "source": [
    "earlystopping_cb = keras.callbacks.EarlyStopping(monitor='val_accuracy', mode='max', verbose=1, patience=10)\n",
    "tensorboard_cb = keras.callbacks.TensorBoard(run_logdir)\n",
    "modelcheckpoint_cb = keras.callbacks.ModelCheckpoint('model_cb.h5', monitor='val_accuracy', mode='max', verbose=1, save_best_only=True)\n",
    "\n",
    "history = model_cb.fit(X_train, y_train, epochs=100,\n",
    "                    validation_data=(X_valid, y_valid),\n",
    "                    callbacks=[earlystopping_cb, tensorboard_cb, modelcheckpoint_cb])"
   ]
  },
  {
   "cell_type": "code",
   "execution_count": 126,
   "metadata": {},
   "outputs": [
    {
     "name": "stdout",
     "output_type": "stream",
     "text": [
      "The tensorboard extension is already loaded. To reload it, use:\n",
      "  %reload_ext tensorboard\n"
     ]
    },
    {
     "data": {
      "text/plain": [
       "Reusing TensorBoard on port 6006 (pid 6900), started 15:24:46 ago. (Use '!kill 6900' to kill it.)"
      ]
     },
     "metadata": {},
     "output_type": "display_data"
    },
    {
     "data": {
      "text/html": [
       "\n",
       "      <iframe id=\"tensorboard-frame-3976c8ceeeb2bd2f\" width=\"100%\" height=\"800\" frameborder=\"0\">\n",
       "      </iframe>\n",
       "      <script>\n",
       "        (function() {\n",
       "          const frame = document.getElementById(\"tensorboard-frame-3976c8ceeeb2bd2f\");\n",
       "          const url = new URL(\"/\", window.location);\n",
       "          url.port = 6006;\n",
       "          frame.src = url;\n",
       "        })();\n",
       "      </script>\n",
       "  "
      ],
      "text/plain": [
       "<IPython.core.display.HTML object>"
      ]
     },
     "metadata": {},
     "output_type": "display_data"
    }
   ],
   "source": [
    "%load_ext tensorboard\n",
    "%tensorboard --logdir=./my_logs --port=6006"
   ]
  },
  {
   "cell_type": "code",
   "execution_count": 127,
   "metadata": {},
   "outputs": [
    {
     "name": "stdout",
     "output_type": "stream",
     "text": [
      "313/313 [==============================] - 0s 1ms/step - loss: 0.0746 - accuracy: 0.9837\n"
     ]
    },
    {
     "data": {
      "text/plain": [
       "[0.07456400245428085, 0.9836999773979187]"
      ]
     },
     "execution_count": 127,
     "metadata": {},
     "output_type": "execute_result"
    }
   ],
   "source": [
    "model_cb = keras.models.load_model(\"model_cb.h5\") # rollback to best model\n",
    "model_cb.evaluate(X_test, y_test)"
   ]
  },
  {
   "cell_type": "markdown",
   "metadata": {},
   "source": [
    "**///////////////////////////////////////////////////////////////////////////////////////////////////////////////////////////////////////////////////////////////////////////////////////////////////////////////////////////////////////////** \n",
    "\n",
    "Yay we got above 98 accuracy \n",
    "\n",
    "**///////////////////////////////////////////////////////////////////////////////////////////////////////////////////////////////////////////////////////////////////////////////////////////////////////////////////////////////////////////** "
   ]
  },
  {
   "cell_type": "code",
   "execution_count": null,
   "metadata": {},
   "outputs": [],
   "source": []
  },
  {
   "cell_type": "code",
   "execution_count": null,
   "metadata": {},
   "outputs": [],
   "source": []
  },
  {
   "cell_type": "code",
   "execution_count": null,
   "metadata": {},
   "outputs": [],
   "source": []
  },
  {
   "cell_type": "code",
   "execution_count": null,
   "metadata": {},
   "outputs": [],
   "source": []
  },
  {
   "cell_type": "code",
   "execution_count": null,
   "metadata": {},
   "outputs": [],
   "source": []
  },
  {
   "cell_type": "code",
   "execution_count": null,
   "metadata": {},
   "outputs": [],
   "source": []
  },
  {
   "cell_type": "code",
   "execution_count": null,
   "metadata": {},
   "outputs": [],
   "source": []
  },
  {
   "cell_type": "code",
   "execution_count": null,
   "metadata": {},
   "outputs": [],
   "source": []
  },
  {
   "cell_type": "code",
   "execution_count": null,
   "metadata": {},
   "outputs": [],
   "source": []
  },
  {
   "cell_type": "code",
   "execution_count": null,
   "metadata": {},
   "outputs": [],
   "source": []
  },
  {
   "cell_type": "code",
   "execution_count": null,
   "metadata": {},
   "outputs": [],
   "source": []
  },
  {
   "cell_type": "code",
   "execution_count": null,
   "metadata": {},
   "outputs": [],
   "source": []
  },
  {
   "cell_type": "code",
   "execution_count": null,
   "metadata": {},
   "outputs": [],
   "source": []
  },
  {
   "cell_type": "code",
   "execution_count": null,
   "metadata": {},
   "outputs": [],
   "source": []
  },
  {
   "cell_type": "code",
   "execution_count": null,
   "metadata": {},
   "outputs": [],
   "source": []
  },
  {
   "cell_type": "code",
   "execution_count": null,
   "metadata": {},
   "outputs": [],
   "source": []
  },
  {
   "cell_type": "code",
   "execution_count": null,
   "metadata": {},
   "outputs": [],
   "source": []
  },
  {
   "cell_type": "code",
   "execution_count": null,
   "metadata": {},
   "outputs": [],
   "source": []
  },
  {
   "cell_type": "code",
   "execution_count": null,
   "metadata": {},
   "outputs": [],
   "source": []
  },
  {
   "cell_type": "markdown",
   "metadata": {},
   "source": [
    "# Progress Note"
   ]
  },
  {
   "cell_type": "markdown",
   "metadata": {},
   "source": [
    "**Problem 1:**"
   ]
  },
  {
   "cell_type": "markdown",
   "metadata": {},
   "source": [
    "When I use \"checkpoint_cb = keras.callbacks.ModelCheckpoint(\"main_model_cb\", save_best_only=True)\", does it mean that after each epoch, it will save the weights if the accuracy of this epoch is better than the previous one?\n",
    "\n",
    "After I include ModelCheckpoint in .fit(), the final accuracy is the same as before when I did not include it. Does this mean the last epoch was the best result? Maybe if I train it for 100 epoch, it will start overfitting and then ModelCheckpoint might actually help? "
   ]
  },
  {
   "cell_type": "code",
   "execution_count": null,
   "metadata": {},
   "outputs": [],
   "source": []
  },
  {
   "cell_type": "markdown",
   "metadata": {},
   "source": [
    "**Problem 2:**"
   ]
  },
  {
   "cell_type": "markdown",
   "metadata": {},
   "source": [
    "Function ExponentialLearningRate supposes to return a callbacks object. Which arms/legs does a callback object have? "
   ]
  },
  {
   "cell_type": "code",
   "execution_count": null,
   "metadata": {},
   "outputs": [],
   "source": []
  },
  {
   "cell_type": "markdown",
   "metadata": {},
   "source": [
    "**Investigation 3:**"
   ]
  },
  {
   "cell_type": "raw",
   "metadata": {},
   "source": [
    "Tensorboard"
   ]
  },
  {
   "cell_type": "markdown",
   "metadata": {},
   "source": []
  },
  {
   "cell_type": "markdown",
   "metadata": {},
   "source": [
    "**Investigation 4: callbacks.Earlystopping()**"
   ]
  },
  {
   "cell_type": "markdown",
   "metadata": {},
   "source": [
    "monitor: Quantity to be monitored.\n",
    "\n",
    "min_delta: Minimum change in the monitored quantity to qualify as an improvement, i.e. an absolute change of less than min_delta, will count as no improvement.\n",
    "\n",
    "patience: Number of epochs with no improvement after which training will be stopped.\n",
    "\n",
    "verbose: verbosity mode.\n",
    "\n",
    "mode: One of {\"auto\", \"min\", \"max\"}. In min mode, training will stop when the quantity monitored has stopped decreasing; in \"max\" mode it will stop when the quantity monitored has stopped increasing; in \"auto\" mode, the direction is automatically inferred from the name of the monitored quantity.\n",
    "\n",
    "baseline: Baseline value for the monitored quantity. Training will stop if the model doesn't show improvement over the baseline.\n",
    "\n",
    "restore_best_weights: Whether to restore model weights from the epoch with the best value of the monitored quantity. If False, the model weights obtained at the last step of training are used."
   ]
  },
  {
   "cell_type": "markdown",
   "metadata": {},
   "source": [
    "-----What is the default value for Monitor and min_delta?-----\n",
    "\n",
    "Go to this link: https://machinelearningmastery.com/how-to-stop-training-deep-neural-networks-at-the-right-time-using-early-stopping/. It has everything to know about Earlystopping and Checkpoints. It also has an example of a overfitted network for a binary classification problem, which can be helpful for the honor thesis. "
   ]
  },
  {
   "cell_type": "markdown",
   "metadata": {},
   "source": [
    "- Monitor: val_loss. We can also use \"loss\", \"accuracy\", \"val_accuracy\"\n",
    "- min_delta: ?\n",
    "- verbose: To discover the training epoch on which training was stopped, the “verbose” argument can be set to 1. Once stopped, the callback will print the epoch number"
   ]
  },
  {
   "cell_type": "markdown",
   "metadata": {},
   "source": [
    "**Investigation 5: Compile**"
   ]
  },
  {
   "cell_type": "markdown",
   "metadata": {},
   "source": [
    "What is the list of matrics for matrics argument?"
   ]
  },
  {
   "cell_type": "code",
   "execution_count": null,
   "metadata": {},
   "outputs": [],
   "source": []
  },
  {
   "cell_type": "markdown",
   "metadata": {},
   "source": [
    "**Investigation 6: Tensorboard visulization from Hyperparameter tuning: Callbacks**"
   ]
  },
  {
   "cell_type": "markdown",
   "metadata": {},
   "source": [
    "Weird shape in the first 2 to 3 epochs."
   ]
  },
  {
   "cell_type": "code",
   "execution_count": null,
   "metadata": {},
   "outputs": [],
   "source": []
  },
  {
   "cell_type": "markdown",
   "metadata": {},
   "source": [
    "**Investigation 7: How to apply knowledge learned in chapp 11 into Jupyter Notebook**"
   ]
  },
  {
   "cell_type": "code",
   "execution_count": null,
   "metadata": {},
   "outputs": [],
   "source": []
  },
  {
   "cell_type": "code",
   "execution_count": null,
   "metadata": {},
   "outputs": [],
   "source": []
  }
 ],
 "metadata": {
  "kernelspec": {
   "display_name": "Python 3",
   "language": "python",
   "name": "python3"
  },
  "language_info": {
   "codemirror_mode": {
    "name": "ipython",
    "version": 3
   },
   "file_extension": ".py",
   "mimetype": "text/x-python",
   "name": "python",
   "nbconvert_exporter": "python",
   "pygments_lexer": "ipython3",
   "version": "3.7.1"
  }
 },
 "nbformat": 4,
 "nbformat_minor": 2
}
